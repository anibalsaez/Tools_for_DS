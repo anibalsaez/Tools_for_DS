{
 "cells": [
  {
   "cell_type": "markdown",
   "id": "80ca26c0",
   "metadata": {},
   "source": [
    "# Data Science Tools and Ecosystem"
   ]
  },
  {
   "cell_type": "markdown",
   "id": "af8fe647",
   "metadata": {},
   "source": [
    "## Author\n",
    "Anibal"
   ]
  },
  {
   "cell_type": "markdown",
   "id": "9ed114d6",
   "metadata": {},
   "source": [
    "In this notebook, Data Science Tools and Ecosystem are summarized."
   ]
  },
  {
   "cell_type": "markdown",
   "id": "a8867f1d",
   "metadata": {},
   "source": [
    "**Objectives:**\n",
    "- List popular languages for Data Science\n",
    "- List commonly used libraries used by Data Scientists\n",
    "- Create a table with development environment open source tools used in data science\n",
    "- Evaluate a basic arithmetic expression\n",
    "- Create a function that converts minutes to hours"
   ]
  },
  {
   "cell_type": "markdown",
   "id": "221caa62",
   "metadata": {},
   "source": [
    "Some of the popular languages that Data Scientists use are:\n",
    "1. Python\n",
    "2. R\n",
    "3. Julia\n",
    "4. SAS\n",
    "5. SQL"
   ]
  },
  {
   "cell_type": "markdown",
   "id": "0666882e",
   "metadata": {},
   "source": [
    "Some of the commonly used libraries used by Data Scientists include:\n",
    "1. scikit-learn\n",
    "2. Pandas\n",
    "3. Matplotlib"
   ]
  },
  {
   "cell_type": "markdown",
   "id": "520a0912",
   "metadata": {},
   "source": [
    "|Data Science Tools|\n",
    "------------------\n",
    "|R Studio|\n",
    "|Jupyter Lab|\n",
    "|Apache Zeppeling|"
   ]
  },
  {
   "cell_type": "markdown",
   "id": "17ee24ae",
   "metadata": {},
   "source": [
    "### Below are a few examples of evaluating arithmetic expressions in Python"
   ]
  },
  {
   "cell_type": "code",
   "execution_count": 2,
   "id": "57426403",
   "metadata": {},
   "outputs": [
    {
     "name": "stdout",
     "output_type": "stream",
     "text": [
      "17\n"
     ]
    }
   ],
   "source": [
    "# This a simple arithmetic expression to mutiply then add integers\n",
    "expression = (3*4)+5\n",
    "print(expression)"
   ]
  },
  {
   "cell_type": "code",
   "execution_count": 4,
   "id": "99b57d09",
   "metadata": {},
   "outputs": [
    {
     "name": "stdout",
     "output_type": "stream",
     "text": [
      "3.3333333333333335\n"
     ]
    }
   ],
   "source": [
    "# This will convert 200 minutes to hours by diving by 60\n",
    "minutes = 200\n",
    "hours = minutes / 60\n",
    "print(hours)"
   ]
  }
 ],
 "metadata": {
  "kernelspec": {
   "display_name": "Python 3 (ipykernel)",
   "language": "python",
   "name": "python3"
  },
  "language_info": {
   "codemirror_mode": {
    "name": "ipython",
    "version": 3
   },
   "file_extension": ".py",
   "mimetype": "text/x-python",
   "name": "python",
   "nbconvert_exporter": "python",
   "pygments_lexer": "ipython3",
   "version": "3.8.2"
  }
 },
 "nbformat": 4,
 "nbformat_minor": 5
}
